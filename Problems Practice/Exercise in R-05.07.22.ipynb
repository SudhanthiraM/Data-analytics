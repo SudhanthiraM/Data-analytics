{
 "cells": [
  {
   "cell_type": "markdown",
   "id": "bab78c2b",
   "metadata": {},
   "source": [
    "1.Write a R program to create an array with three columns, three rows, and two \"tables\", taking two vectors as input to the array. Print the array."
   ]
  },
  {
   "cell_type": "code",
   "execution_count": 1,
   "id": "98ee3f58",
   "metadata": {},
   "outputs": [],
   "source": [
    "vector1 <- c(5,9,3)\n",
    "vector2 <- c(6,8,4)"
   ]
  },
  {
   "cell_type": "code",
   "execution_count": 2,
   "id": "461815b8",
   "metadata": {},
   "outputs": [
    {
     "name": "stdout",
     "output_type": "stream",
     "text": [
      ", , 1\n",
      "\n",
      "     [,1] [,2] [,3]\n",
      "[1,]    5    6    5\n",
      "[2,]    9    8    9\n",
      "[3,]    3    4    3\n",
      "\n",
      ", , 2\n",
      "\n",
      "     [,1] [,2] [,3]\n",
      "[1,]    6    5    6\n",
      "[2,]    8    9    8\n",
      "[3,]    4    3    4\n",
      "\n"
     ]
    }
   ],
   "source": [
    "array1 <- array(c(vector1,vector2),dim = c(3,3,2))\n",
    "print(array1)"
   ]
  },
  {
   "cell_type": "markdown",
   "id": "211993ef",
   "metadata": {},
   "source": [
    "2.Write a R program to create a 5 × 4 matrix "
   ]
  },
  {
   "cell_type": "code",
   "execution_count": 3,
   "id": "64f0c806",
   "metadata": {},
   "outputs": [
    {
     "name": "stdout",
     "output_type": "stream",
     "text": [
      "     [,1] [,2] [,3] [,4]\n",
      "[1,]    1    2    3    4\n",
      "[2,]    5    6    7    8\n",
      "[3,]    9   10    1    2\n",
      "[4,]    3    4    5    6\n",
      "[5,]    7    8    9   10\n"
     ]
    }
   ],
   "source": [
    "A = matrix(c(1:10),nrow = 5,ncol = 4,byrow = TRUE)\n",
    "print(A)"
   ]
  },
  {
   "cell_type": "markdown",
   "id": "d9e58732",
   "metadata": {},
   "source": [
    "2.1 3 × 3 matrix with labels and fill the matrix by rows"
   ]
  },
  {
   "cell_type": "code",
   "execution_count": 4,
   "id": "1e9cdd75",
   "metadata": {},
   "outputs": [
    {
     "name": "stdout",
     "output_type": "stream",
     "text": [
      "     col1 col2 col3\n",
      "row1    1    2    3\n",
      "row2    4    5    6\n",
      "row3    7    8    9\n"
     ]
    }
   ],
   "source": [
    "row_names <- c(\"row1\", \"row2\",\"row3\")\n",
    "col_names <- c(\"col1\", \"col2\", \"col3\")\n",
    "B=matrix(c(1:9),nrow=3,ncol=3,byrow=TRUE,dimnames=list(row_names,col_names))\n",
    "print(B)"
   ]
  },
  {
   "cell_type": "markdown",
   "id": "5c0bdc1e",
   "metadata": {},
   "source": [
    "2.2 2 × 2 matrix with labels and fill the matrix by columns"
   ]
  },
  {
   "cell_type": "code",
   "execution_count": 5,
   "id": "2737e611",
   "metadata": {},
   "outputs": [
    {
     "name": "stdout",
     "output_type": "stream",
     "text": [
      "     col1 col2\n",
      "row1    1    3\n",
      "row2    2    4\n"
     ]
    }
   ],
   "source": [
    "row_names <- c(\"row1\", \"row2\")\n",
    "col_names <- c(\"col1\", \"col2\")\n",
    "C=matrix(c(1:4),nrow=2,ncol=2,byrow=FALSE,dimnames=list(row_names,col_names))\n",
    "print(C)"
   ]
  },
  {
   "cell_type": "markdown",
   "id": "105f26af",
   "metadata": {},
   "source": [
    "3.Imagine that you are working for the Ghostbusters, and for safety reasons you are recording the height and weight for everyone or everything the team encounters. So far you have collected information about the following. entities: Dr Peter Venkman, Dr Raymond Stantz, Dr. Eagon Spengler, Dana Barrett, Vigo, Slimer, and the Marshmallow Man.\n",
    "#### Create the following two vectors: \n",
    "####  A vector called weight, storing the values: 71, 67, 83, 67\n",
    "####  A vector called height, storing the values: 1.75, 1.81, 1.78, 1.82, 1.97, 2.12, 2.75 \n",
    "#### You need to calculate the BMI for all you have data for. BMI is calculated by dividing the weight in kg by the height in meters squared.\n",
    "####  Carry out the operation and save the result in a variable called bmi.   \n",
    "####  What is your output?\n",
    "#### Try printing your bmi variable.\n"
   ]
  },
  {
   "cell_type": "code",
   "execution_count": 6,
   "id": "202738a2",
   "metadata": {},
   "outputs": [],
   "source": [
    "weight<-c(71, 67, 83, 67)\n",
    "height<-c( 1.75, 1.81, 1.78, 1.82, 1.97, 2.12, 2.75)"
   ]
  },
  {
   "cell_type": "code",
   "execution_count": 7,
   "id": "dfadfa44",
   "metadata": {},
   "outputs": [
    {
     "data": {
      "text/html": [
       "'double'"
      ],
      "text/latex": [
       "'double'"
      ],
      "text/markdown": [
       "'double'"
      ],
      "text/plain": [
       "[1] \"double\""
      ]
     },
     "metadata": {},
     "output_type": "display_data"
    }
   ],
   "source": [
    "typeof(weight)"
   ]
  },
  {
   "cell_type": "code",
   "execution_count": 8,
   "id": "cff806dc",
   "metadata": {},
   "outputs": [
    {
     "data": {
      "text/html": [
       "'double'"
      ],
      "text/latex": [
       "'double'"
      ],
      "text/markdown": [
       "'double'"
      ],
      "text/plain": [
       "[1] \"double\""
      ]
     },
     "metadata": {},
     "output_type": "display_data"
    }
   ],
   "source": [
    "typeof(height)"
   ]
  },
  {
   "cell_type": "code",
   "execution_count": 9,
   "id": "f24b3b8c",
   "metadata": {},
   "outputs": [
    {
     "name": "stderr",
     "output_type": "stream",
     "text": [
      "Warning message in weight%%height:\n",
      "\"longer object length is not a multiple of shorter object length\"\n"
     ]
    },
    {
     "name": "stdout",
     "output_type": "stream",
     "text": [
      "[1] 1.00 0.03 1.12 1.48 0.08 1.28 0.50\n"
     ]
    }
   ],
   "source": [
    "BMI<-weight%%height\n",
    "print(BMI)"
   ]
  },
  {
   "cell_type": "markdown",
   "id": "c51d0cf2",
   "metadata": {},
   "source": [
    "### Can you explain how you got the last three values, given that your weight variable only had 4 elements?"
   ]
  },
  {
   "cell_type": "markdown",
   "id": "a1d36c90",
   "metadata": {},
   "source": [
    "#### Ans:If we apply arithmetic operations to two vectors of unequal length, then the elements of the shorter vector\n",
    "#### are recycled to complete the operations"
   ]
  },
  {
   "cell_type": "code",
   "execution_count": null,
   "id": "1c8c06ea",
   "metadata": {},
   "outputs": [],
   "source": []
  }
 ],
 "metadata": {
  "kernelspec": {
   "display_name": "R",
   "language": "R",
   "name": "ir"
  },
  "language_info": {
   "codemirror_mode": "r",
   "file_extension": ".r",
   "mimetype": "text/x-r-source",
   "name": "R",
   "pygments_lexer": "r",
   "version": "4.2.1"
  }
 },
 "nbformat": 4,
 "nbformat_minor": 5
}
