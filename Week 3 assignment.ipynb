{
 "cells": [
  {
   "cell_type": "code",
   "execution_count": null,
   "id": "d8db1b87",
   "metadata": {},
   "outputs": [],
   "source": [
    "Q2.write python code to read n as integer,from STDIN. For all non-negative integers i<n ,print i**2.\n",
    "\n",
    "Example\n",
    "The list of non-negative integers that are less than n=3 is[0,1,2]. Print the square of each number on a separate line.\n",
    "0\n",
    "1\n",
    "4\n",
    "\n",
    "Input Format\n",
    "The first and only line contains the integer,n .\n",
    "Output Format\n",
    "Print n lines, one corresponding to each i .\n",
    "\n",
    "\n",
    "Sample Input \n",
    "5\n",
    "Sample Output \n",
    "0\n",
    "1\n",
    "4\n",
    "9\n",
    "16"
   ]
  },
  {
   "cell_type": "code",
   "execution_count": 1,
   "id": "5eb318ef",
   "metadata": {},
   "outputs": [
    {
     "name": "stdout",
     "output_type": "stream",
     "text": [
      "How many square number you want:4\n",
      "The square of each number:\n",
      "0\n",
      "\n",
      "1\n",
      "\n",
      "4\n",
      "\n",
      "9\n",
      "\n"
     ]
    }
   ],
   "source": [
    "n=int(input(\"How many square number you want:\"))\n",
    "print(\"The square of each number:\")\n",
    "for i in range(n):\n",
    " print(i**2)\n",
    " print()"
   ]
  },
  {
   "cell_type": "code",
   "execution_count": 2,
   "id": "3cee894a",
   "metadata": {},
   "outputs": [
    {
     "name": "stdout",
     "output_type": "stream",
     "text": [
      "enter the value=4\n",
      "0\n",
      "1\n",
      "4\n",
      "9\n"
     ]
    }
   ],
   "source": [
    "n=int(input(\"enter the value=\"))\n",
    "for i in range(n):    \n",
    "    print(i*i)"
   ]
  },
  {
   "cell_type": "code",
   "execution_count": null,
   "id": "e1faf316",
   "metadata": {},
   "outputs": [],
   "source": [
    "Q3.An extra day is added to the calendar almost every four years as February 29, and the day is called a leap day. It corrects the calendar for the fact that our planet takes approximately 365.25 days to orbit the sun. A leap year contains a leap day.\n",
    "\n",
    "In the Gregorian calendar, three conditions are used to identify leap years:\n",
    "The year can be evenly divided by 4, is a leap year, unless:\n",
    "The year can be evenly divided by 100, it is NOT a leap year, unless:\n",
    "The year is also evenly divisible by 400. Then it is a leap year.\n",
    "This means that in the Gregorian calendar, the years 2000 and 2400 are leap years, while 1800, 1900, 2100, 2200, 2300 and 2500 are NOT leap years. Source\n",
    "\n",
    "Task\n",
    "Given a year, determine whether it is a leap year. If it is a leap year, return the Boolean True, otherwise return False.\n",
    "\n",
    "Note that the code stub provided reads from STDIN and passes arguments to the is_leap function. It is only necessary to complete the is_leap function.\n",
    "\n",
    "Input Format\n",
    "Read , the year as integer to test.\n",
    "Output Format\n",
    "The function must return a Boolean value (True/False)\n",
    "\n",
    "Sample Input \n",
    "1990\n",
    "Sample Output \n",
    "False"
   ]
  },
  {
   "cell_type": "code",
   "execution_count": 3,
   "id": "5532725b",
   "metadata": {},
   "outputs": [
    {
     "name": "stdout",
     "output_type": "stream",
     "text": [
      "Enter The Year1991\n"
     ]
    },
    {
     "data": {
      "text/plain": [
       "False"
      ]
     },
     "execution_count": 3,
     "metadata": {},
     "output_type": "execute_result"
    }
   ],
   "source": [
    "def is_leap(year):\n",
    "    return bool((year%4==0 and year%100!=0) or (year%400==0))\n",
    "year=int(input(\"Enter The Year\"))\n",
    "is_leap(year) "
   ]
  },
  {
   "cell_type": "code",
   "execution_count": 4,
   "id": "63007fdc",
   "metadata": {},
   "outputs": [],
   "source": [
    "def is_leap1():\n",
    "    year = int(input(\"enter the year\"))\n",
    "    if (year % 400 == 0) and (year % 100 == 0):\n",
    "        return True\n",
    "    elif (year % 4 ==0) and (year % 100 != 0):\n",
    "        return True\n",
    "    else:\n",
    "        return False"
   ]
  },
  {
   "cell_type": "code",
   "execution_count": 5,
   "id": "39ab0cdc",
   "metadata": {},
   "outputs": [
    {
     "name": "stdout",
     "output_type": "stream",
     "text": [
      "enter the year2000\n"
     ]
    },
    {
     "data": {
      "text/plain": [
       "True"
      ]
     },
     "execution_count": 5,
     "metadata": {},
     "output_type": "execute_result"
    }
   ],
   "source": [
    "is_leap1()"
   ]
  },
  {
   "cell_type": "code",
   "execution_count": null,
   "id": "3aef12c0",
   "metadata": {},
   "outputs": [],
   "source": [
    "Q1.Calculate the Salary using Python Programming\n",
    "\n",
    "Read the question carefully and follow the input and output format. \n",
    "\n",
    "Karen got salary for this month and she spends 20% of her salary for food, 10% of her salary for entertainment and 10% of her salary for travel.If she takes care of other shifts she will get 4% of the salary per day. Given her salary and the number of shifts she handled.Calculate how much she can save in her pocket after spending all these?\n",
    "\n",
    "Input and Output Format : First line of input consists of an integer, salary. Next line correspond to the number of shifts. Output consist of an integer, \n",
    "which is saving.\n",
    " 1. Print \"Salary too large\" when salary is greater than 10000. \n",
    " 2. Print \"Shifts too small\" when the shift is less than 0. \n",
    " 3. Print \"Salary too small\" when the salary is less than 0.\n",
    "Include a function named calculateSal()  to calcuate salary and print saving.\n",
    "\n",
    "- Sample Input 1:\n",
    "  7000\n",
    "  5\n",
    "  Sample Output 1:\n",
    "  5600\n",
    "- Sample Input 2:\n",
    "  80000\n",
    "  Sample Output 2:\n",
    "  Salary too large\n",
    "- Sample Input 3:\n",
    "  6000\n",
    "  -1\n",
    "  Sample Output 3:\n",
    "  Shift too small"
   ]
  },
  {
   "cell_type": "code",
   "execution_count": 6,
   "id": "cec4d398",
   "metadata": {},
   "outputs": [],
   "source": [
    "def calculateSal():\n",
    "    salary=int(input(\"Enter the salary=\"))\n",
    "    if salary>10000:\n",
    "        print(\"Salary too large\")\n",
    "    elif salary<0 :\n",
    "        print(\"Salary too small\")\n",
    "    else:\n",
    "        shifts=int(input(\"enter the no of shifts=\"))\n",
    "        if shifts<0:\n",
    "            print(\"Shift too small\")\n",
    "        else:\n",
    "            savings=(salary*0.6)+(salary*0.04*shifts)\n",
    "            return savings"
   ]
  },
  {
   "cell_type": "code",
   "execution_count": null,
   "id": "a68e5508",
   "metadata": {},
   "outputs": [],
   "source": [
    "calculateSal()"
   ]
  },
  {
   "cell_type": "code",
   "execution_count": null,
   "id": "12b15fdd",
   "metadata": {},
   "outputs": [],
   "source": []
  }
 ],
 "metadata": {
  "kernelspec": {
   "display_name": "Python 3 (ipykernel)",
   "language": "python",
   "name": "python3"
  },
  "language_info": {
   "codemirror_mode": {
    "name": "ipython",
    "version": 3
   },
   "file_extension": ".py",
   "mimetype": "text/x-python",
   "name": "python",
   "nbconvert_exporter": "python",
   "pygments_lexer": "ipython3",
   "version": "3.8.10"
  }
 },
 "nbformat": 4,
 "nbformat_minor": 5
}
